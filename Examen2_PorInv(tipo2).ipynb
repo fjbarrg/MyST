{
 "cells": [
  {
   "cell_type": "markdown",
   "metadata": {},
   "source": [
    "# Examen 2 - Portafolios de inversión - P2019. Tipo 2.\n",
    "\n",
    "<img style=\"float: right; margin: 0px 0px 15px 15px;\" src=\"https://upload.wikimedia.org/wikipedia/commons/a/ac/Exchange_Financial_markets_Centrum_Pieniadza_NBP_AB.jpg\" width=\"600px\" height=\"400px\" />\n",
    "\n",
    "**Resumen.**\n",
    "> Este examen pretende evaluar los conocimientos que hemos adquirido a lo largo de los dos módulos finales.\n",
    "\n",
    "> El examen consta de dos partes. \n",
    "1. La primera es conceptual. Los cálculos que puede llegar a involucrar son bastante sencillos.\n",
    "2. La segunda parte es práctica, como lo que se ha venido haciendo en las tareas. En esta parte deberás importar un archivo donde se encuentran reportados los precios ajustados en el cierre de dos compañías en una base diaria, deberás caracterizar los rendimientos y con base en ello construir fronteras media-varianza bajo ciertas condiciones. Finalmente deberás concluir de los resultados.\n",
    "\n",
    "**Criterio de revisión.**\n",
    "> Primera parte: tiene un valor del 40% del examen.\n",
    "\n",
    "> Segunda parte: tiene un valor del 60% del examen. Se te calificará de acuerdo a los resultados finales que reportes, basados en tu análisis.\n",
    "\n",
    "**Antes de comenzar.**\n",
    "> Por favor, nombrar este archivo *Examen2_ApellidoNombre*, sin acentos y sin espacios; por ejemplo, en mi caso el archivo se llamaría *Examen2_JimenezEsteban*. Resolver todos los puntos en dicho archivo y subir a moodle.\n",
    "___"
   ]
  },
  {
   "cell_type": "markdown",
   "metadata": {},
   "source": [
    "## I. Primera parte (40 puntos)"
   ]
  },
  {
   "cell_type": "markdown",
   "metadata": {},
   "source": [
    "**Pregunta 1.** (10 puntos) Explique porqué el portafolio de mercado en el CAPM puede ser calculado sin resolver un problema de optimización."
   ]
  },
  {
   "cell_type": "markdown",
   "metadata": {},
   "source": []
  },
  {
   "cell_type": "markdown",
   "metadata": {},
   "source": [
    "**Pregunta 2.** (10 puntos) Explique la idea fundamental de porqué el CAPM no funciona."
   ]
  },
  {
   "cell_type": "markdown",
   "metadata": {},
   "source": []
  },
  {
   "cell_type": "markdown",
   "metadata": {},
   "source": [
    "**Pregunta 3.** (10 puntos) Un fondo de inversiones con $\\beta=1.5$ tiene un rendimiento esperado del $17.1427\\%$. Si la tasa libre de riesgo es $3.3456\\%$ y el rendimiento esperado del portafolio de mercado es del $12.5467\\%$, ¿debería invertir en este fondo?\n",
    "\n",
    "A. Si.\n",
    "\n",
    "B. No."
   ]
  },
  {
   "cell_type": "markdown",
   "metadata": {},
   "source": [
    "La respuesta correcta es (5 puntos):"
   ]
  },
  {
   "cell_type": "markdown",
   "metadata": {},
   "source": [
    "Justificación (5 puntos):"
   ]
  },
  {
   "cell_type": "markdown",
   "metadata": {},
   "source": [
    "**Pregunta 4.** (10 puntos) Escriba la fórmula del CAPM, en una celda de Markdown en formato LaTeX, especificando qué es cada uno de los términos que compone la ecuación."
   ]
  },
  {
   "cell_type": "markdown",
   "metadata": {},
   "source": []
  },
  {
   "cell_type": "markdown",
   "metadata": {},
   "source": [
    "___\n",
    "## II. Segunda parte (60 puntos)"
   ]
  },
  {
   "cell_type": "markdown",
   "metadata": {},
   "source": [
    "### Construyendo un portafolio con activos de la americanos"
   ]
  },
  {
   "cell_type": "markdown",
   "metadata": {},
   "source": [
    "**Punto 1.** (10 puntos) En los archivos `datamx.csv` y `dataus.csv` se encuentran reportados los **precios mensuales ajustados en el cierre** de los activos de Grupo Financiero Banorte, Grupo Financiero Inbursa, Grupo Aeroportuario del Pacífico y Herdez, y Microsoft, Apple, Coca-Cola y Nike, respectivamente, desde inicios del 2012 hasta septiembre de 2019.\n",
    "\n",
    "Adicionalmente, \n",
    "\n",
    "- la tasa de los Cetes a un mes reportados en la página de [Banxico](http://www.banxico.org.mx/) es de $6.00\\%$, al 23 de Abril (esta tasa es anual).\n",
    "\n",
    "- la tasa de los certificados de tesorería a un mes reportados en la página de [Departamento de tesorería de los EEUU](https://www.treasury.gov/resource-center/data-chart-center/interest-rates/pages/TextView.aspx?data=yield) es de $0.09\\%$, al 23 de Abril (esta tasa es anual)."
   ]
  },
  {
   "cell_type": "markdown",
   "metadata": {},
   "source": [
    "1. Importar todos los precios **de los activos americanos** en un DataFrame indizado por fecha. Mostrar la gráfica de estos precios (2 puntos).\n",
    "2. Obtener un DataFrame con los rendimientos porcentuales mensuales para estos activos. Mostrar la gráfica de rendimientos (3 puntos).\n",
    "3. Reportar en un DataFrame el rendimiento esperado mensual y la volatilidad mensual para cada uno de estos activos (2 puntos).\n",
    "4. Calcular las matrices de varianza-covarianza (base mensual) y de correlación (base mensual) para estos activos (3 puntos)."
   ]
  },
  {
   "cell_type": "code",
   "execution_count": null,
   "metadata": {},
   "outputs": [],
   "source": []
  },
  {
   "cell_type": "code",
   "execution_count": null,
   "metadata": {},
   "outputs": [],
   "source": []
  },
  {
   "cell_type": "code",
   "execution_count": null,
   "metadata": {},
   "outputs": [],
   "source": []
  },
  {
   "cell_type": "code",
   "execution_count": null,
   "metadata": {},
   "outputs": [],
   "source": []
  },
  {
   "cell_type": "code",
   "execution_count": null,
   "metadata": {},
   "outputs": [],
   "source": []
  },
  {
   "cell_type": "markdown",
   "metadata": {},
   "source": [
    "**Punto 2.** (20 puntos) Usando los datos del punto anterior:\n",
    "\n",
    "1. Halle los pesos del portafolio de mínima varianza considerando todos los activos riesgosos. También reportar claramente el rendimiento esperado, volatilidad y cociente de Sharpe para dicho portafolio (9 puntos).\n",
    "2. Halle los pesos del portafolio EMV considerando todos los activos riesgosos. También reportar claramente el rendimiento esperado, volatilidad y cociente de Sharpe para dicho portafolio (9 puntos).\n",
    "3. Halle la covarianza y la correlación entre los dos portafolios hallados (2 puntos)."
   ]
  },
  {
   "cell_type": "code",
   "execution_count": null,
   "metadata": {},
   "outputs": [],
   "source": []
  },
  {
   "cell_type": "code",
   "execution_count": null,
   "metadata": {},
   "outputs": [],
   "source": []
  },
  {
   "cell_type": "code",
   "execution_count": null,
   "metadata": {},
   "outputs": [],
   "source": []
  },
  {
   "cell_type": "code",
   "execution_count": null,
   "metadata": {},
   "outputs": [],
   "source": []
  },
  {
   "cell_type": "code",
   "execution_count": null,
   "metadata": {},
   "outputs": [],
   "source": []
  },
  {
   "cell_type": "markdown",
   "metadata": {},
   "source": [
    "**Punto 3.** (10 puntos) Con los portafolios que se encontraron en el punto anterior (de mínima varianza y EMV):\n",
    "\n",
    "1. Construya la frontera de mínima varianza calculando el rendimiento esperado y volatilidad para varias combinaciones de los anteriores portafolios. Reportar dichas combinaciones en un DataFrame incluyendo pesos, rendimiento, volatilidad y cociente de Sharpe (5 puntos).\n",
    "2. También construya la línea de asignación de capital entre el activo libre de riesgo y el portafolio EMV. Reportar las combinaciones de estos activos en un DataFrame incluyendo pesos, rendimiento, volatilidad y cociente de Sharpe (5 puntos)."
   ]
  },
  {
   "cell_type": "code",
   "execution_count": null,
   "metadata": {},
   "outputs": [],
   "source": []
  },
  {
   "cell_type": "code",
   "execution_count": null,
   "metadata": {},
   "outputs": [],
   "source": []
  },
  {
   "cell_type": "code",
   "execution_count": null,
   "metadata": {},
   "outputs": [],
   "source": []
  },
  {
   "cell_type": "code",
   "execution_count": null,
   "metadata": {},
   "outputs": [],
   "source": []
  },
  {
   "cell_type": "code",
   "execution_count": null,
   "metadata": {},
   "outputs": [],
   "source": []
  },
  {
   "cell_type": "markdown",
   "metadata": {},
   "source": [
    "**Punto 4.** (20 puntos)\n",
    "\n",
    "1. Usando todos los datos obtenidos, grafique:\n",
    " - los activos individuales,\n",
    " - portafolio de mínima varianza,\n",
    " - portafolio eficiente en media-varianza (EMV),\n",
    " - frontera de mínima varianza, y\n",
    " - línea de asignación de capital,\n",
    "en el espacio de rendimiento (eje $y$) vs. volatilidad (eje $x$). Asegúrese de etiquetar todo y poner distintos colores para diferenciar los distintos elementos en su gráfico (10 puntos).\n",
    "2. Suponga que usted está aconsejando a un cliente cuyo coeficiente de aversión al riesgo resultó ser 1. ¿Qué asignación de capital le sugeriría? ¿Qué significa esta asignación? ¿Cuánto debe invertir en cada activo? ¿Cuánto en el activo libre de riesgo? (10 puntos)."
   ]
  },
  {
   "cell_type": "code",
   "execution_count": null,
   "metadata": {},
   "outputs": [],
   "source": []
  },
  {
   "cell_type": "code",
   "execution_count": null,
   "metadata": {},
   "outputs": [],
   "source": []
  },
  {
   "cell_type": "code",
   "execution_count": null,
   "metadata": {},
   "outputs": [],
   "source": []
  },
  {
   "cell_type": "code",
   "execution_count": null,
   "metadata": {},
   "outputs": [],
   "source": []
  },
  {
   "cell_type": "code",
   "execution_count": null,
   "metadata": {},
   "outputs": [],
   "source": []
  },
  {
   "cell_type": "code",
   "execution_count": null,
   "metadata": {},
   "outputs": [],
   "source": []
  },
  {
   "cell_type": "markdown",
   "metadata": {},
   "source": [
    "<script>\n",
    "  $(document).ready(function(){\n",
    "    $('div.prompt').hide();\n",
    "    $('div.back-to-top').hide();\n",
    "    $('nav#menubar').hide();\n",
    "    $('.breadcrumb').hide();\n",
    "    $('.hidden-print').hide();\n",
    "  });\n",
    "</script>\n",
    "\n",
    "<footer id=\"attribution\" style=\"float:right; color:#808080; background:#fff;\">\n",
    "Created with Jupyter by Esteban Jiménez Rodríguez.\n",
    "</footer>"
   ]
  }
 ],
 "metadata": {
  "kernelspec": {
   "display_name": "Python 3",
   "language": "python",
   "name": "python3"
  },
  "language_info": {
   "codemirror_mode": {
    "name": "ipython",
    "version": 3
   },
   "file_extension": ".py",
   "mimetype": "text/x-python",
   "name": "python",
   "nbconvert_exporter": "python",
   "pygments_lexer": "ipython3",
   "version": "3.7.3"
  }
 },
 "nbformat": 4,
 "nbformat_minor": 2
}
